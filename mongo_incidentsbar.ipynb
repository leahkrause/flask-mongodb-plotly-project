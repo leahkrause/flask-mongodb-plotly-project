{
 "cells": [
  {
   "cell_type": "code",
   "execution_count": 1,
   "id": "864959a1",
   "metadata": {},
   "outputs": [],
   "source": [
    "from pymongo import MongoClient\n",
    "from pprint import pprint\n",
    "import pandas as pd\n",
    "import matplotlib.pyplot as plt\n",
    "import matplotlib.ticker as ticker"
   ]
  },
  {
   "cell_type": "markdown",
   "id": "9454cd07",
   "metadata": {},
   "source": [
    "# trend_DB visualization"
   ]
  },
  {
   "cell_type": "code",
   "execution_count": 2,
   "id": "5ccf097f",
   "metadata": {},
   "outputs": [],
   "source": [
    "# Create an instance of MongoClient\n",
    "mongo = MongoClient(port=27017)"
   ]
  },
  {
   "cell_type": "code",
   "execution_count": 3,
   "id": "f11aa029",
   "metadata": {},
   "outputs": [
    {
     "name": "stdout",
     "output_type": "stream",
     "text": [
      "['admin', 'autosaurus', 'classDB', 'config', 'epa', 'fruits_db', 'local', 'met', 'petsitly_marketing', 'project3', 'project3trend', 'uk_food']\n"
     ]
    }
   ],
   "source": [
    "# confirm that our new database was created\n",
    "print(mongo.list_database_names())"
   ]
  },
  {
   "cell_type": "code",
   "execution_count": 4,
   "id": "4e6d108c",
   "metadata": {},
   "outputs": [],
   "source": [
    "# Create the database under 'project3trend'\n",
    "trend_db = mongo['project3trend']"
   ]
  },
  {
   "cell_type": "code",
   "execution_count": 5,
   "id": "9676a7fa",
   "metadata": {},
   "outputs": [
    {
     "name": "stdout",
     "output_type": "stream",
     "text": [
      "['trend_data']\n"
     ]
    }
   ],
   "source": [
    "# Print collection names\n",
    "print(trend_db.list_collection_names())\n",
    "\n",
    "# Define the collection\n",
    "trend_collection = trend_db['trend_data']"
   ]
  },
  {
   "cell_type": "code",
   "execution_count": 6,
   "id": "427a4462",
   "metadata": {},
   "outputs": [],
   "source": [
    "# Define the aggregation pipeline\n",
    "pipeline = [\n",
    "    {\"$group\": {\"_id\": \"$Year\", \"mass_shootings\": {\"$sum\": \"$Mass Shootings (Incidents)\"}}},\n",
    "    {\"$sort\": {\"_id\": 1}}]"
   ]
  },
  {
   "cell_type": "code",
   "execution_count": 7,
   "id": "62598897",
   "metadata": {},
   "outputs": [
    {
     "data": {
      "text/html": [
       "<div>\n",
       "<style scoped>\n",
       "    .dataframe tbody tr th:only-of-type {\n",
       "        vertical-align: middle;\n",
       "    }\n",
       "\n",
       "    .dataframe tbody tr th {\n",
       "        vertical-align: top;\n",
       "    }\n",
       "\n",
       "    .dataframe thead th {\n",
       "        text-align: right;\n",
       "    }\n",
       "</style>\n",
       "<table border=\"1\" class=\"dataframe\">\n",
       "  <thead>\n",
       "    <tr style=\"text-align: right;\">\n",
       "      <th></th>\n",
       "      <th>_id</th>\n",
       "      <th>mass_shootings</th>\n",
       "    </tr>\n",
       "  </thead>\n",
       "  <tbody>\n",
       "    <tr>\n",
       "      <th>0</th>\n",
       "      <td>1966</td>\n",
       "      <td>2.0</td>\n",
       "    </tr>\n",
       "    <tr>\n",
       "      <th>1</th>\n",
       "      <td>1967</td>\n",
       "      <td>1.0</td>\n",
       "    </tr>\n",
       "    <tr>\n",
       "      <th>2</th>\n",
       "      <td>1968</td>\n",
       "      <td>1.0</td>\n",
       "    </tr>\n",
       "    <tr>\n",
       "      <th>3</th>\n",
       "      <td>1969</td>\n",
       "      <td>1.0</td>\n",
       "    </tr>\n",
       "    <tr>\n",
       "      <th>4</th>\n",
       "      <td>1970</td>\n",
       "      <td>1.0</td>\n",
       "    </tr>\n",
       "  </tbody>\n",
       "</table>\n",
       "</div>"
      ],
      "text/plain": [
       "    _id  mass_shootings\n",
       "0  1966             2.0\n",
       "1  1967             1.0\n",
       "2  1968             1.0\n",
       "3  1969             1.0\n",
       "4  1970             1.0"
      ]
     },
     "execution_count": 7,
     "metadata": {},
     "output_type": "execute_result"
    }
   ],
   "source": [
    "# Execute the aggregation pipeline and convert the result to a DataFrame\n",
    "result = trend_collection.aggregate(pipeline)\n",
    "trend_df = pd.DataFrame(list(result))\n",
    "trend_df.head()"
   ]
  },
  {
   "cell_type": "code",
   "execution_count": 8,
   "id": "8298fff5",
   "metadata": {},
   "outputs": [],
   "source": [
    "# Convert Year column to string type\n",
    "trend_df[\"_id\"] = trend_df[\"_id\"].astype(str)\n",
    "\n",
    "# remove rows containing 'Mean', 'Total', and 'Yearly Growth Rate' from 'Year' column\n",
    "trend_df = trend_df[~trend_df['_id'].str.contains('Mean|Total|Yearly Growth Rate')]\n",
    "\n",
    "# Find the index of the row containing '2022' in the '_id' column\n",
    "idx = trend_df.loc[trend_df['_id'] == '2022'].index[0]\n",
    "\n",
    "# Slice the dataframe up to and including the row containing '2022'\n",
    "trend_df = trend_df.iloc[:idx+1]"
   ]
  },
  {
   "cell_type": "code",
   "execution_count": 9,
   "id": "babf98e2",
   "metadata": {},
   "outputs": [
    {
     "data": {
      "text/plain": [
       "Text(0.5, 1.0, 'Mass Shootings Trend in the US (1966-2022)')"
      ]
     },
     "execution_count": 9,
     "metadata": {},
     "output_type": "execute_result"
    },
    {
     "data": {
      "image/png": "[encoded data removed]",
      "text/plain": [
       "<Figure size 1200x400 with 1 Axes>"
      ]
     },
     "metadata": {},
     "output_type": "display_data"
    }
   ],
   "source": [
    "# Set the figure size\n",
    "fig, ax = plt.subplots(figsize=(12,4))\n",
    "\n",
    "# Create a bar chart using pyplot.bar()\n",
    "ax.bar(trend_df[\"_id\"], trend_df[\"mass_shootings\"], color='#FF5733')\n",
    "\n",
    "# Set the x-limits to exclude empty spaces\n",
    "ax.set_xlim(left=-1, right=len(trend_df[\"_id\"])+0)\n",
    "\n",
    "# Rotate x-axis labels\n",
    "plt.xticks(rotation=45)\n",
    "\n",
    "# Set the x-tick frequency to only show even years\n",
    "ax.set_xticks(trend_df.index[trend_df[\"_id\"].astype(int) % 2 == 0])\n",
    "ax.set_xticklabels(trend_df[\"_id\"][trend_df[\"_id\"].astype(int) % 2 == 0], fontsize=8)\n",
    "\n",
    "# Add minor ticks\n",
    "ax.xaxis.set_minor_locator(ticker.AutoMinorLocator(2))\n",
    "\n",
    "# Add labels and title to the chart\n",
    "ax.set_ylabel('Mass Shootings (Incidents)')\n",
    "ax.set_title('Mass Shootings Trend in the US (1966-2022)')"
   ]
  },
  {
   "cell_type": "markdown",
   "id": "4ffaccdd",
   "metadata": {},
   "source": [
    "# full_DB visualization"
   ]
  },
  {
   "cell_type": "code",
   "execution_count": 10,
   "id": "db567437",
   "metadata": {},
   "outputs": [],
   "source": [
    "# Create the database under 'project3'\n",
    "full_db = mongo['project3']"
   ]
  },
  {
   "cell_type": "code",
   "execution_count": 13,
   "id": "2615d22d",
   "metadata": {},
   "outputs": [
    {
     "name": "stdout",
     "output_type": "stream",
     "text": [
      "['full_data']\n"
     ]
    }
   ],
   "source": [
    "# Print collection names\n",
    "print(full_db.list_collection_names())\n",
    "\n",
    "# Define the collection\n",
    "full_collection = full_db['full_data']"
   ]
  },
  {
   "cell_type": "code",
   "execution_count": null,
   "id": "847ced96",
   "metadata": {},
   "outputs": [],
   "source": []
  }
 ],
 "metadata": {
  "kernelspec": {
   "display_name": "Python 3 (ipykernel)",
   "language": "python",
   "name": "python3"
  },
  "language_info": {
   "codemirror_mode": {
    "name": "ipython",
    "version": 3
   },
   "file_extension": ".py",
   "mimetype": "text/x-python",
   "name": "python",
   "nbconvert_exporter": "python",
   "pygments_lexer": "ipython3",
   "version": "3.9.13"
  }
 },
 "nbformat": 4,
 "nbformat_minor": 5
}
